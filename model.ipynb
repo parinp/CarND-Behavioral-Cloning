{
 "cells": [
  {
   "cell_type": "code",
   "execution_count": 6,
   "metadata": {
    "scrolled": false
   },
   "outputs": [],
   "source": [
    "import tensorflow as tf\n",
    "from keras.models import Sequential \n",
    "from keras.layers import Dense, Flatten, Activation, Dropout, Lambda, Cropping2D\n",
    "from keras.layers.convolutional import Convolution2D\n",
    "from keras.layers.pooling import MaxPooling2D\n",
    "from keras.regularizers import l2\n",
    "from keras.optimizers import Adam\n",
    "from keras.callbacks import EarlyStopping\n",
    "from keras.layers.normalization import BatchNormalization\n",
    "from keras.layers.advanced_activations import ELU\n",
    "\n",
    "import keras\n",
    "from keras.layers import GlobalAveragePooling2D , Input\n",
    "from keras.models import Model\n",
    "from keras.preprocessing.image import ImageDataGenerator\n",
    "\n",
    "from keras.preprocessing.image import img_to_array\n",
    "from sklearn.utils import shuffle\n",
    "from sklearn.model_selection import train_test_split\n",
    "from skimage import transform\n",
    "\n",
    "import numpy as np\n",
    "import math\n",
    "import cv2\n",
    "import matplotlib.pyplot as plt\n",
    "import os\n",
    "import csv\n",
    "import random\n",
    "import pickle\n",
    "\n",
    "\n",
    "#----All methods and functions-------------------------------------------------------------------------\n",
    "#def random_rotate(image, angles = (-15,15)):\n",
    "    \n",
    "#    rand_angle = random.randint(angles[0],angles[1])\n",
    "#    rot = transform.rotate(image,rand_angle,mode='edge')\n",
    "#    return np.array(rot).reshape(160,320,3)\n",
    "def random_contrast(image, gamma_range = 0.5):\n",
    "    \n",
    "    image = image.astype(np.uint8)\n",
    "    gamma = random.uniform(gamma_range,1+gamma_range)\n",
    "    \n",
    "    invGamma = 1.0 / gamma\n",
    "    image = cv2.cvtColor(image,cv2.COLOR_YUV2RGB)\n",
    "    table = np.array([((i / 255.0) ** invGamma) * 255\n",
    "        for i in np.arange(0, 256)]).astype(\"uint8\")\n",
    "    # apply gamma correction using the lookup table\n",
    "    return np.array(cv2.cvtColor(cv2.LUT(image, table),cv2.COLOR_RGB2YUV))\n",
    "    \n",
    "def random_shadow(img, w_low=0.2, w_high=0.4):\n",
    "    \n",
    "    img = img.astype(np.uint8)\n",
    "    height, width = (img.shape[0], img.shape[1])\n",
    "    \n",
    "    x1_top = np.random.random() * width/2 \n",
    "    x2_top = np.random.uniform(x1_top,width)\n",
    "    \n",
    "    x1_bot = np.random.random() * width\n",
    "    x2_bot = np.random.uniform(x1_top,width)\n",
    "    \n",
    "    poly = np.asarray([[ [x1_top,0], [x1_bot,height], [x2_bot,height], [x2_top,0]]], dtype=np.int32)\n",
    "        \n",
    "    mask_weight = np.random.uniform(w_low, w_high)\n",
    "    origin_weight = 1 - mask_weight\n",
    "    \n",
    "    mask = np.copy(img).astype(np.int32)\n",
    "    cv2.fillPoly(mask, poly, (0, 0, 0))\n",
    "    \n",
    "    return np.array(cv2.addWeighted(img.astype(np.int32), origin_weight, mask, mask_weight, 0)).astype(np.uint8)\n",
    "\n",
    "def random_translation(img,translation = (-10,10)):\n",
    "    \n",
    "    x = np.random.randint(translation[0],translation[1])\n",
    "    \n",
    "    T = np.float32([[1,0,x],[0,1,0]])\n",
    "    new_image = cv2.warpAffine(img,T,(200,66),borderMode = cv2.BORDER_REPLICATE)\n",
    "    \n",
    "    return np.array(new_image) , x\n",
    "\n",
    "def generate_data(samples, batch_size = 64,Augment=True):\n",
    "    \n",
    "    num_samples = len(samples)\n",
    "    while True:\n",
    "        shuffle(samples)\n",
    "        for offset in range(0,num_samples,batch_size):\n",
    "            batch_samples = samples[offset:offset+batch_size]\n",
    "            \n",
    "            images = []\n",
    "            angles = []\n",
    "            \n",
    "            for batch_sample in batch_samples:\n",
    "                for i in range(3):\n",
    "                    local_path = batch_sample[i]\n",
    "                    image = cv2.imread(local_path)\n",
    "                    image = image[65:140,:,:]\n",
    "                    image = cv2.resize(image,(200, 66))\n",
    "                    image = cv2.cvtColor(image,cv2.COLOR_BGR2YUV)\n",
    "                    images.append(image)\n",
    "        \n",
    "                correction = 0.20\n",
    "                angle = float(batch_sample[3])\n",
    "                \n",
    "                angles.append(angle)\n",
    "                angles.append(angle+correction)\n",
    "                angles.append(angle-correction)\n",
    "            \n",
    "            aug_images = []\n",
    "            aug_angles = []\n",
    "            \n",
    "            \n",
    "            \n",
    "            \n",
    "            for image, angle in zip(images,angles):\n",
    "                aug_images.append(image)\n",
    "                aug_angles.append(angle)\n",
    "                \n",
    "                if Augment == True:\n",
    "                    \n",
    "                    transformed_image = cv2.flip(image,1)\n",
    "                    transformed_angle = float(angle)*-1.0\n",
    "                    \n",
    "                    #aug_images.append(transformed_image)\n",
    "                    #aug_angles.append(transformed_angle)\n",
    "                    \n",
    "                    \"\"\"\n",
    "                    rand = bool(random.getrandbits(1))\n",
    "                    \n",
    "                    if(rand==True):\n",
    "                        transformed_image, side = random_translation(image)\n",
    "\n",
    "                        if(side>0):\n",
    "                            angle += angle*0.15/10\n",
    "                        else:\n",
    "                            angle += angle*-0.15/10\n",
    "                    \"\"\"\n",
    "                    \n",
    "                    aug_images.append(transformed_image)    \n",
    "                    aug_angles.append(transformed_angle)\n",
    "                    \n",
    "                    #shadowed_image = random_shadow(image)\n",
    "                    #aug_images.append(shadowed_image)\n",
    "                    #aug_angles.append(angle)\n",
    "                    \n",
    "                    #contrasted_image = random_contrast(image)\n",
    "                    #aug_images.append(contrasted_image)\n",
    "                    #aug_angles.append(angle)\n",
    "            \n",
    "            X_train = aug_images\n",
    "            y_train = aug_angles\n",
    "            \n",
    "            if Augment == True:\n",
    "                m = np.mean(aug_angles)\n",
    "                s = np.std(aug_angles)\n",
    "                values, counts = np.unique(aug_angles,return_counts = True)\n",
    "                \n",
    "                max_num = max(counts)\n",
    "                \n",
    "                for val_i in range(len(values)):\n",
    "                    num = max_num-counts[val_i]\n",
    "                    if num>0:\n",
    "                        value = values[val_i]\n",
    "        \n",
    "                        if value<(m-2*s):\n",
    "                            indx = np.where(aug_angles==value)[0]\n",
    "                            for i in range(num):\n",
    "                                ind = np.random.choice(indx)\n",
    "                                y_train.append(aug_angles[ind])\n",
    "                                X_train.append(aug_images[ind])\n",
    "                        elif value>(m+2*s):\n",
    "                            indx = np.where(aug_angles==value)[0]\n",
    "                            for i in range(num):\n",
    "                                ind = np.random.choice(indx)\n",
    "                                y_train.append(aug_angles[ind])\n",
    "                                X_train.append(aug_images[ind])\n",
    "                        elif value>=(m-2*s) and value<=(m-s):\n",
    "                            indx = np.where(aug_angles==value)[0]\n",
    "                            for i in range(num):\n",
    "                                ind = np.random.choice(indx)\n",
    "                                y_train.append(aug_angles[ind])\n",
    "                                X_train.append(aug_images[ind])\n",
    "                        elif value<=(m+2*s) and value > (m+s):\n",
    "                            indx = np.where(aug_angles==value)[0]\n",
    "                            for i in range(num):\n",
    "                                ind = np.random.choice(indx)\n",
    "                                y_train.append(aug_angles[ind])\n",
    "                                X_train.append(aug_images[ind])\n",
    "         \n",
    "            return shuffle(np.array(X_train),np.array(y_train))\n",
    "    \n",
    "#----Pre-Processing Data----------------------------------------------------------------------------\n",
    "info = []\n",
    "\n",
    "\n",
    "path = \"../Data/\"\n",
    "destination = np.array([#\"Udacity_data/\",\n",
    "                        \"track1_1/\",\n",
    "                        \"track1_2/\",\n",
    "                        \"track1_3/\",\n",
    "                        \"track1_4/\",\n",
    "                        \"track1_5/\",\n",
    "                        #\"Track1_a/\",\n",
    "                        #\"track2_1/\",\n",
    "                        \"track1_cor1/\",\n",
    "                        ])\n",
    "\"\"\"\n",
    "path = \"../Data2/\"\n",
    "destination = np.array([\"track1_l1/\",\n",
    "                        \"track1_l2/\",\n",
    "                        \"track1_l3/\"])\n",
    "\"\"\"\n",
    "csv_file = \"driving_log.csv\"\n",
    "\n",
    "for dest in destination:\n",
    "    with open(path+dest+csv_file,\"r\") as file:\n",
    "        reader = csv.reader(file)\n",
    "        for line in reader:\n",
    "            for i in range(3):\n",
    "                line[i] = line[i].replace(\"\\\\\",\"/\").split(\"/\")\n",
    "                line[i] = path + dest + \"IMG/\" +line[i][-1]\n",
    "            \n",
    "            info.append(line)\n",
    "\n",
    "train_samples,valid_samples = train_test_split(info,test_size = 0.2)\n",
    "\n",
    "batch = 128\n",
    "\n",
    "#train_generator = generate_data(train_samples,batch,Augment = True)\n",
    "#valid_generator = generate_data(valid_samples,batch, Augment = False)\n",
    "\n"
   ]
  },
  {
   "cell_type": "code",
   "execution_count": 2,
   "metadata": {},
   "outputs": [
    {
     "data": {
      "image/png": "[encoded data removed]",
      "text/plain": [
       "<Figure size 432x288 with 1 Axes>"
      ]
     },
     "metadata": {
      "needs_background": "light"
     },
     "output_type": "display_data"
    }
   ],
   "source": [
    "X_train,y_train = generate_data(train_samples,batch,Augment = False)\n",
    "values, counts = np.unique(y_train,return_counts = True)\n",
    "\n",
    "plt.bar(values, counts, width = 0.05)\n",
    "plt.savefig('readme_files/incom.png')"
   ]
  },
  {
   "cell_type": "code",
   "execution_count": 7,
   "metadata": {},
   "outputs": [
    {
     "data": {
      "image/png": "[encoded data removed]",
      "text/plain": [
       "<Figure size 432x288 with 1 Axes>"
      ]
     },
     "metadata": {
      "needs_background": "light"
     },
     "output_type": "display_data"
    }
   ],
   "source": [
    "X_train,y_train = generate_data(train_samples,batch,Augment = True)\n",
    "X_valid,y_valid = generate_data(valid_samples,batch,Augment = False)\n",
    "\n",
    "values, counts = np.unique(y_train,return_counts = True)\n",
    "\n",
    "plt.bar(values, counts, width = 0.05)\n",
    "\n",
    "plt.savefig('readme_files/com.png')"
   ]
  },
  {
   "cell_type": "code",
   "execution_count": 8,
   "metadata": {},
   "outputs": [],
   "source": [
    "with open('train2.p', 'wb') as f:\n",
    "    pickle.dump([X_train, y_train], f)\n",
    "    \n",
    "with open('valid2.p','wb') as f:\n",
    "    pickle.dump([X_valid,y_valid], f)"
   ]
  },
  {
   "cell_type": "code",
   "execution_count": null,
   "metadata": {},
   "outputs": [],
   "source": [
    "img1 = '../Data/track1_1/IMG/center_2020_05_25_12_18_35_145.jpg'\n",
    "\n",
    "img = cv2.imread(img1)\n",
    "img = img[50:140,:,:]\n",
    "img = cv2.resize(img,(200, 66), interpolation = cv2.INTER_AREA)\n",
    "img = cv2.cvtColor(img,cv2.COLOR_BGR2YUV)\n",
    "img = cv2.flip(img,1)\n",
    "img = random_shadow(img)\n",
    "print(img.dtype)\n",
    "plt.imshow(img)"
   ]
  },
  {
   "cell_type": "code",
   "execution_count": null,
   "metadata": {},
   "outputs": [],
   "source": [
    "img1 = '../Data/track1_1/IMG/center_2020_05_25_12_18_35_145.jpg'\n",
    "\n",
    "img = cv2.imread(img1)\n",
    "img = cv2.cvtColor(img,cv2.COLOR_BGR2YUV)\n",
    "img = random_shadow(img)\n",
    "print(img.dtype)\n",
    "plt.imshow(img)\n",
    "print(img)"
   ]
  },
  {
   "cell_type": "code",
   "execution_count": null,
   "metadata": {
    "scrolled": true
   },
   "outputs": [],
   "source": [
    "img1 = '../Data/track1_1/IMG/center_2020_05_25_12_18_35_145.jpg'\n",
    "\n",
    "img = cv2.imread(img1)\n",
    "img = cv2.cvtColor(img,cv2.COLOR_BGR2YUV)\n",
    "img = random_translation(img)\n",
    "print(img.dtype)\n",
    "plt.imshow(img)\n",
    "print(img)"
   ]
  },
  {
   "cell_type": "code",
   "execution_count": 5,
   "metadata": {},
   "outputs": [
    {
     "name": "stdout",
     "output_type": "stream",
     "text": [
      "uint8\n"
     ]
    },
    {
     "data": {
      "image/png": "[encoded data removed]",
      "text/plain": [
       "<Figure size 432x288 with 1 Axes>"
      ]
     },
     "metadata": {
      "needs_background": "light"
     },
     "output_type": "display_data"
    }
   ],
   "source": [
    "img2 = '../Data/track1_1/IMG/center_2020_05_25_12_18_35_145.jpg'\n",
    "\n",
    "img = cv2.imread(img2)\n",
    "img = img[65:140,:,:]\n",
    "img = cv2.resize(img,(200, 66), interpolation = cv2.INTER_AREA)\n",
    "img = cv2.cvtColor(img,cv2.COLOR_BGR2YUV)\n",
    "img = cv2.flip(img,1)\n",
    "print(img.dtype)\n",
    "plt.imshow(img)\n",
    "plt.savefig('readme_files/out.png')"
   ]
  },
  {
   "cell_type": "markdown",
   "metadata": {},
   "source": [
    "## Image Data Generator"
   ]
  },
  {
   "cell_type": "code",
   "execution_count": 9,
   "metadata": {},
   "outputs": [
    {
     "data": {
      "text/plain": [
       "<BarContainer object of 327 artists>"
      ]
     },
     "execution_count": 9,
     "metadata": {},
     "output_type": "execute_result"
    },
    {
     "data": {
      "image/png": "[encoded data removed]",
      "text/plain": [
       "<Figure size 432x288 with 1 Axes>"
      ]
     },
     "metadata": {
      "needs_background": "light"
     },
     "output_type": "display_data"
    }
   ],
   "source": [
    "with open('train2.p','rb') as f:\n",
    "    X_train, y_train = pickle.load(f)\n",
    "\n",
    "with open('valid2.p','rb') as f:\n",
    "    X_valid, y_valid = pickle.load(f)\n",
    "    \n",
    "\n",
    "values, counts = np.unique(y_train,return_counts = True)\n",
    "\n",
    "plt.bar(values, counts, width = 0.05)"
   ]
  },
  {
   "cell_type": "code",
   "execution_count": 10,
   "metadata": {},
   "outputs": [],
   "source": [
    "datagen = ImageDataGenerator()"
   ]
  },
  {
   "cell_type": "code",
   "execution_count": 11,
   "metadata": {},
   "outputs": [
    {
     "name": "stdout",
     "output_type": "stream",
     "text": [
      "Default GPU Device:/gpu:0\n"
     ]
    }
   ],
   "source": [
    "if tf.test.gpu_device_name(): \n",
    "\n",
    "    print('Default GPU Device:{}'.format(tf.test.gpu_device_name()))"
   ]
  },
  {
   "cell_type": "markdown",
   "metadata": {},
   "source": [
    "## Self created model\n",
    "used Nvidia deep learning architecture for self driving cars"
   ]
  },
  {
   "cell_type": "code",
   "execution_count": 12,
   "metadata": {
    "scrolled": false
   },
   "outputs": [],
   "source": [
    "### ----Deep-Learning Model 1 ----------------------------------------------------------------------------\n",
    "model = Sequential()\n",
    "#model.add(Lambda(lambda x:x/127.5 - 1.0,input_shape = (66,200,3)))\n",
    "#model.add(Cropping2D(cropping = ((25,55),(0,0))))\n",
    "\n",
    "model.add(BatchNormalization(trainable = False, input_shape=(66,200,3)))\n",
    "model.add(Convolution2D(24,(5,5), kernel_regularizer = l2(0.001), strides = (2,2)))\n",
    "model.add(ELU())\n",
    "model.add(Convolution2D(36,(5,5), kernel_regularizer = l2(0.001), strides = (2,2)))\n",
    "model.add(ELU())\n",
    "model.add(Convolution2D(48,(5,5), kernel_regularizer = l2(0.001), strides = (2,2)))\n",
    "model.add(ELU())\n",
    "model.add(Convolution2D(64,(3,3), kernel_regularizer = l2(0.001)))\n",
    "model.add(ELU())\n",
    "model.add(Convolution2D(64,(3,3), kernel_regularizer = l2(0.001)))\n",
    "model.add(ELU())\n",
    "\n",
    "#model.add(Dropout(0.5))\n",
    "model.add(Flatten())\n",
    "model.add(Dense(100, kernel_regularizer = l2(0.001)))\n",
    "model.add(ELU())\n",
    "model.add(Dense(50, kernel_regularizer = l2(0.001)))\n",
    "model.add(ELU())\n",
    "model.add(Dense(10, kernel_regularizer = l2(0.001)))\n",
    "model.add(ELU())\n",
    "model.add(Dense(1))"
   ]
  },
  {
   "cell_type": "code",
   "execution_count": 13,
   "metadata": {},
   "outputs": [
    {
     "name": "stdout",
     "output_type": "stream",
     "text": [
      "Epoch 1/20\n",
      "122/122 [==============================] - 15s 122ms/step - loss: 0.4749 - val_loss: 0.6539\n",
      "Epoch 2/20\n",
      "122/122 [==============================] - 13s 105ms/step - loss: 0.4301 - val_loss: 0.4848\n",
      "Epoch 3/20\n",
      "122/122 [==============================] - 13s 105ms/step - loss: 0.3973 - val_loss: 0.4245\n",
      "Epoch 4/20\n",
      "122/122 [==============================] - 13s 106ms/step - loss: 0.3638 - val_loss: 0.3855\n",
      "Epoch 5/20\n",
      "122/122 [==============================] - 13s 105ms/step - loss: 0.3309 - val_loss: 0.3522\n",
      "Epoch 6/20\n",
      "122/122 [==============================] - 13s 106ms/step - loss: 0.2995 - val_loss: 0.3208\n",
      "Epoch 7/20\n",
      "122/122 [==============================] - 13s 106ms/step - loss: 0.2699 - val_loss: 0.2913\n",
      "Epoch 8/20\n",
      "122/122 [==============================] - 13s 107ms/step - loss: 0.2425 - val_loss: 0.2644\n",
      "Epoch 9/20\n",
      "122/122 [==============================] - 13s 108ms/step - loss: 0.2172 - val_loss: 0.2403\n",
      "Epoch 10/20\n",
      "122/122 [==============================] - 13s 109ms/step - loss: 0.1941 - val_loss: 0.2170\n",
      "Epoch 11/20\n",
      "122/122 [==============================] - 13s 110ms/step - loss: 0.1732 - val_loss: 0.1971\n",
      "Epoch 12/20\n",
      "122/122 [==============================] - 13s 109ms/step - loss: 0.1542 - val_loss: 0.1786\n",
      "Epoch 13/20\n",
      "122/122 [==============================] - 14s 111ms/step - loss: 0.1372 - val_loss: 0.1622\n",
      "Epoch 14/20\n",
      "122/122 [==============================] - 14s 111ms/step - loss: 0.1218 - val_loss: 0.1484\n",
      "Epoch 15/20\n",
      "122/122 [==============================] - 14s 111ms/step - loss: 0.1082 - val_loss: 0.1348\n",
      "Epoch 16/20\n",
      "122/122 [==============================] - 14s 111ms/step - loss: 0.0960 - val_loss: 0.1242\n",
      "Epoch 17/20\n",
      "122/122 [==============================] - 14s 111ms/step - loss: 0.0852 - val_loss: 0.1126\n",
      "Epoch 18/20\n",
      "122/122 [==============================] - 14s 111ms/step - loss: 0.0756 - val_loss: 0.1043\n",
      "Epoch 19/20\n",
      "122/122 [==============================] - 14s 112ms/step - loss: 0.0672 - val_loss: 0.0958\n",
      "Epoch 20/20\n",
      "122/122 [==============================] - 14s 111ms/step - loss: 0.0598 - val_loss: 0.0894\n"
     ]
    }
   ],
   "source": [
    "model.compile(optimizer=Adam(lr = 1e-4),loss = 'mse')\n",
    "#model.fit(X_train,y_train, epochs=4,validation_split = 0.2, shuffle = True)\n",
    "model.fit_generator(datagen.flow(X_train,y_train, batch_size = batch, shuffle = True),\n",
    "                    steps_per_epoch = math.ceil(len(train_samples)/batch), \n",
    "                    validation_data = (X_valid,y_valid), \n",
    "                    validation_steps = math.ceil(len(valid_samples)/batch), \n",
    "                    epochs = 20, verbose =1,\n",
    "                    callbacks = [EarlyStopping(patience = 2)])\n",
    "                   \n",
    "#model.save('model3.h5') # Did not add random_brigthness for image augmentation ------best\n",
    "#model.save('model4.h5')  # got closer trying to recreate model3\n",
    "#model.save('model5.h5')  # very close but constantly swaying from side to side \n",
    "#model.save('model6.h5')  # trying to recreate model3 by resizing image to 66,200,3 ------ after resizing errors\n",
    "#model.save('model7.h5')  # kernel_reg = l2(0.0001)\n",
    "#model.save('model8.h5') #kernel_reg = l2(0.0001) and dropout 0.5 before flatten()\n",
    "#model.save('model9.h5') #Works but jitters a lot no data 5\n",
    "model.save('model10.h5') # no data 3 and "
   ]
  },
  {
   "cell_type": "markdown",
   "metadata": {},
   "source": [
    "## ResNet152V2 Model\n",
    "Used ResNet152V2 model for feature extraction and added 3 fully connected layers at the end of the model"
   ]
  },
  {
   "cell_type": "code",
   "execution_count": null,
   "metadata": {},
   "outputs": [],
   "source": [
    "from keras_applications.resnet_common import ResNet152V2\n",
    "\n",
    "resnet = ResNet152V2(\n",
    "    include_top = False,\n",
    "    weights = 'imagenet',\n",
    "    input_shape = (66,200,3),\n",
    "    backend = keras.backend,\n",
    "    layers = keras.layers,\n",
    "    models = keras.models,\n",
    "    utils = keras.utils)\n",
    "\n",
    "for layer in resnet.layers:\n",
    "    layer.trainable = False\n",
    "    \n",
    "x = resnet.output\n",
    "\n",
    "x = Flatten()(x)\n",
    "x = Dense(1024, name=\"fc1\" ,activation = 'relu', kernel_regularizer = l2(0.0001))(x)\n",
    "\n",
    "x = Dense(256, name=\"fc2\" ,activation = 'relu',kernel_regularizer = l2(0.0001))(x)\n",
    "\n",
    "x = Dense(10, name=\"fc3\" ,activation = 'relu',kernel_regularizer = l2(0.0001))(x)\n",
    "predictions = Dense(1)(x)\n",
    "\n",
    "ResNetModel = Model(inputs = resnet.input,outputs=predictions)\n",
    "\n",
    "ResNetModel.summary()"
   ]
  },
  {
   "cell_type": "code",
   "execution_count": null,
   "metadata": {},
   "outputs": [],
   "source": [
    "resbatch = 64\n",
    "\n",
    "ResNetModel.compile(optimizer=Adam(lr = 0.0001),loss = 'mse')\n",
    "#model.fit(X_train,y_train, epochs=4,validation_split = 0.2, shuffle = True)\n",
    "ResNetModel.fit_generator(datagen.flow(X_train,y_train, batch_size = resbatch,shuffle = True),\n",
    "                    steps_per_epoch = math.ceil(len(train_samples)/resbatch), \n",
    "                    validation_data = (X_valid,y_valid), \n",
    "                    validation_steps = math.ceil(len(valid_samples)/resbatch), \n",
    "                    epochs = 10, verbose =1)\n",
    "\n",
    "ResNetModel.save('resnet_model1.h5')"
   ]
  },
  {
   "cell_type": "markdown",
   "metadata": {},
   "source": [
    "## VGG16 Model\n",
    "\n",
    "Used VGG16 model for feature extraction"
   ]
  },
  {
   "cell_type": "code",
   "execution_count": null,
   "metadata": {},
   "outputs": [],
   "source": [
    "from keras_applications.vgg16 import VGG16"
   ]
  },
  {
   "cell_type": "code",
   "execution_count": null,
   "metadata": {},
   "outputs": [],
   "source": [
    "vgg = VGG16(weights='imagenet', \n",
    "    include_top=False,\n",
    "    input_shape=[66, 200, 3],\n",
    "    backend = keras.backend,\n",
    "    layers = keras.layers,\n",
    "    models = keras.models,\n",
    "    utils = keras.utils)\n",
    "\n",
    "for layer in vgg.layers:\n",
    "        layer.trainable = False\n",
    "        \n",
    "x = vgg.output\n",
    "x = Flatten()(x)\n",
    "\n",
    "x = Dense(1024, activation='relu', name='fc1', kernel_regularizer=l2(0.001))(x)\n",
    "x = Dense(256, activation='relu', name='fc2', kernel_regularizer=l2(0.001))(x)\n",
    "predictions = Dense(1)(x)\n",
    "\n",
    "VGG_model = Model(inputs =vgg.input , outputs = predictions)\n",
    "VGG_model.summary()"
   ]
  },
  {
   "cell_type": "code",
   "execution_count": null,
   "metadata": {},
   "outputs": [],
   "source": [
    "vggbatch = 64\n",
    "\n",
    "VGG_model.compile(optimizer=Adam(lr = 0.0001),loss = 'mse')\n",
    "#model.fit(X_train,y_train, epochs=4,validation_split = 0.2, shuffle = True)\n",
    "VGG_model.fit_generator(datagen.flow(X_train,y_train, batch_size = vggbatch),\n",
    "                    steps_per_epoch = math.ceil(len(train_samples)/vggbatch), \n",
    "                    validation_data = (X_valid,y_valid), \n",
    "                    validation_steps = math.ceil(len(valid_samples)/vggbatch), \n",
    "                    epochs = 20, verbose =1)\n",
    "\n",
    "VGG_model.save('vgg_model1.h5')"
   ]
  },
  {
   "cell_type": "code",
   "execution_count": null,
   "metadata": {},
   "outputs": [],
   "source": []
  }
 ],
 "metadata": {
  "kernelspec": {
   "display_name": "Python 3",
   "language": "python",
   "name": "python3"
  },
  "language_info": {
   "codemirror_mode": {
    "name": "ipython",
    "version": 3
   },
   "file_extension": ".py",
   "mimetype": "text/x-python",
   "name": "python",
   "nbconvert_exporter": "python",
   "pygments_lexer": "ipython3",
   "version": "3.5.6"
  }
 },
 "nbformat": 4,
 "nbformat_minor": 4
}
